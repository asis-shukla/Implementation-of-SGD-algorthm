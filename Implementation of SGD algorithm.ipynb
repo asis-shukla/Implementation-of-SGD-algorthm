{
 "cells": [
  {
   "cell_type": "markdown",
   "metadata": {},
   "source": [
    "## Prediction using sklearn's SGDRegressor algorithm"
   ]
  },
  {
   "cell_type": "code",
   "execution_count": 1,
   "metadata": {
    "colab": {},
    "colab_type": "code",
    "id": "REYPoTJ1Af7u"
   },
   "outputs": [],
   "source": [
    "# Importing required packages\n",
    "import warnings\n",
    "warnings.filterwarnings(\"ignore\")\n",
    "from sklearn.datasets import load_boston\n",
    "from random import seed\n",
    "from random import randrange\n",
    "from csv import reader\n",
    "from math import sqrt\n",
    "from sklearn import preprocessing\n",
    "import pandas as pd\n",
    "import numpy as np\n",
    "import matplotlib.pyplot as plt\n",
    "from prettytable import PrettyTable\n",
    "from sklearn.linear_model import SGDRegressor\n",
    "from sklearn import preprocessing\n",
    "from sklearn.metrics import mean_squared_error"
   ]
  },
  {
   "cell_type": "code",
   "execution_count": 2,
   "metadata": {
    "colab": {},
    "colab_type": "code",
    "id": "NTQ2iH-kAwbo"
   },
   "outputs": [],
   "source": [
    "# Loading data into matrix X and Y\n",
    "X = load_boston().data\n",
    "Y = load_boston().target"
   ]
  },
  {
   "cell_type": "code",
   "execution_count": 3,
   "metadata": {},
   "outputs": [],
   "source": [
    "# Splitting of data  training and testing data\n",
    "from sklearn.model_selection import train_test_split\n",
    "X_train, X_test, y_train, y_test = train_test_split(X, Y, test_size=0.33, random_state=42)"
   ]
  },
  {
   "cell_type": "code",
   "execution_count": 4,
   "metadata": {
    "colab": {},
    "colab_type": "code",
    "id": "FgUW39s6Be0U"
   },
   "outputs": [],
   "source": [
    "# Preprocessing of data matrix X_train and X_test\n",
    "scaler = preprocessing.StandardScaler().fit(X_train)\n",
    "X_train = scaler.transform(X_train)\n",
    "X_test = scaler.transform(X_test)"
   ]
  },
  {
   "cell_type": "code",
   "execution_count": 5,
   "metadata": {
    "colab": {
     "base_uri": "https://localhost:8080/",
     "height": 34
    },
    "colab_type": "code",
    "executionInfo": {
     "elapsed": 879,
     "status": "ok",
     "timestamp": 1545718892607,
     "user": {
      "displayName": "Applied AI Course",
      "photoUrl": "https://lh5.googleusercontent.com/-9_3A9F-kDXs/AAAAAAAAAAI/AAAAAAAAACw/IprjYvUuoXQ/s64/photo.jpg",
      "userId": "00484516897554883881"
     },
     "user_tz": -330
    },
    "id": "HNu1sXtEBBS2",
    "outputId": "a0c5d3d0-345c-4a34-8ccf-0d9f3d7d23fd"
   },
   "outputs": [
    {
     "name": "stdout",
     "output_type": "stream",
     "text": [
      "MSE using standard sklearn's implementation is 23.2395080399755\n"
     ]
    }
   ],
   "source": [
    "# Training using standard sklearn SGDRegressor\n",
    "clf = SGDRegressor()\n",
    "clf.fit(X_train, y_train)\n",
    "# calculating mse using trained model\n",
    "y_pred = clf.predict(X_test)\n",
    "mse = mean_squared_error(y_test, y_pred)\n",
    "print(\"MSE using standard sklearn's implementation is\", mse)\n",
    "\n",
    "# Weight vector using standard implementation\n",
    "w_std = clf.coef_"
   ]
  },
  {
   "cell_type": "markdown",
   "metadata": {},
   "source": [
    "## Implementation of SGD for linear regression using numpy"
   ]
  },
  {
   "cell_type": "code",
   "execution_count": 6,
   "metadata": {},
   "outputs": [],
   "source": [
    "def SGDRegressor_our(X, Y, k, n_iter, r = 1):\n",
    "    \"\"\"\n",
    "    This function returns weight vector w and intercept bafter solving optimization problem by SGD on \n",
    "    X: Data matrix of size n*d\n",
    "    y: given labels for each data point of size n*1\n",
    "    w is vector of size d*1\n",
    "    b is scalar which is intercept of hyperplane\n",
    "    k: number of rows selected rondom from training dataset\n",
    "    \"\"\"\n",
    "    from sklearn.utils import shuffle\n",
    "    # getting shape of our data\n",
    "    n, d = X.shape[0], X.shape[1]\n",
    "    # Taking a random weight w and random intercept term b\n",
    "\n",
    "    w = np.random.normal(size=d)           # Taking random weight vector w of size (13, )\n",
    "    b = np.random.normal()\n",
    "    \n",
    "    for i in range(n_iter):\n",
    "        # Selecting k random data points from X and their correcponding y's and store in X_new and y_new\n",
    "        \n",
    "        X_new, y_new = shuffle(X, Y)\n",
    "        X_new = X_new[0:k]   # Selecting first k data points from X_new\n",
    "        y_new = y_new[0:k]   # Selecting first k prices from y_new\n",
    "        \n",
    "        y_predicted = (X_new @ w) + b\n",
    "        \n",
    "        error = y_new - y_predicted\n",
    "        sum_grad = np.zeros(13)\n",
    "        \n",
    "        for i in range(k):\n",
    "            sum_grad = sum_grad + ((-2/k) * (X_new[i] * error[i]))\n",
    "            \n",
    "        # sum_grad = sum_grad / k\n",
    "                                   \n",
    "        w_new = w - (r * sum_grad)\n",
    "        b_new = b - (r * ((-2) * (sum(error)/k)))\n",
    "        \n",
    "        r = r / 2\n",
    "        w = w_new\n",
    "        b = b_new\n",
    "    # When loop ends we return vector w and intercept b\n",
    "    return w, b"
   ]
  },
  {
   "cell_type": "code",
   "execution_count": 7,
   "metadata": {},
   "outputs": [],
   "source": [
    "# Prediction function using weight w and intercept term b for data matrix X\n",
    "def predict_our(X, w, b):\n",
    "    y_pred_new = (X @ w) + b\n",
    "    return y_pred_new              # This is of array of size len(X)"
   ]
  },
  {
   "cell_type": "code",
   "execution_count": 309,
   "metadata": {},
   "outputs": [],
   "source": [
    "mse_train = []\n",
    "mse_test = []\n",
    "no_iter = []\n",
    "for i in range(0, 20):\n",
    "    no_iter.append(i)\n",
    "    w_ans, b_ans = SGDRegressor_our(X_train, y_train, 250, i, 0.4)\n",
    "    y_pred_our_train = predict_our(X_train, w_ans, b_ans)\n",
    "    y_pred_our_test = predict_our(X_test, w_ans, b_ans)\n",
    "    mse_train.append(mean_squared_error(y_train, y_pred_our_train))\n",
    "    mse_test.append(mean_squared_error(y_test, y_pred_our_test))"
   ]
  },
  {
   "cell_type": "code",
   "execution_count": 381,
   "metadata": {},
   "outputs": [
    {
     "data": {
      "image/png": "[encoded data removed]",
      "text/plain": [
       "<Figure size 432x288 with 1 Axes>"
      ]
     },
     "metadata": {
      "needs_background": "light"
     },
     "output_type": "display_data"
    }
   ],
   "source": [
    "plt.plot(no_iter, mse_train, label = \"MSE for train data\")\n",
    "plt.plot(no_iter, mse_test, label = \"MSE for test data\")\n",
    "plt.title(\"Number of iterations vs MSE plots for train and test data\")\n",
    "plt.grid()\n",
    "plt.xlabel(\"Number of iterations\")\n",
    "plt.ylabel(\"MSE values\")\n",
    "plt.legend()\n",
    "plt.show()"
   ]
  },
  {
   "cell_type": "code",
   "execution_count": 311,
   "metadata": {},
   "outputs": [
    {
     "data": {
      "text/plain": [
       "26.26823339878875"
      ]
     },
     "execution_count": 311,
     "metadata": {},
     "output_type": "execute_result"
    }
   ],
   "source": [
    "min(mse_test)"
   ]
  },
  {
   "cell_type": "code",
   "execution_count": 312,
   "metadata": {},
   "outputs": [
    {
     "data": {
      "text/plain": [
       "8"
      ]
     },
     "execution_count": 312,
     "metadata": {},
     "output_type": "execute_result"
    }
   ],
   "source": [
    "mse_test.index(min(mse_test))"
   ]
  },
  {
   "cell_type": "code",
   "execution_count": 376,
   "metadata": {},
   "outputs": [
    {
     "name": "stdout",
     "output_type": "stream",
     "text": [
      "(13,)\n",
      "********************\n",
      "21.559516124697506\n"
     ]
    }
   ],
   "source": [
    "# Training our for 8 iteration using batch size 250, We get it from above test\n",
    "w_ans, b_ans = SGDRegressor_our(X_train, y_train, 250, 8, 0.4)\n",
    "print(w_ans.shape)\n",
    "print(\"*\"*20)\n",
    "print(b_ans)"
   ]
  },
  {
   "cell_type": "code",
   "execution_count": 377,
   "metadata": {},
   "outputs": [
    {
     "name": "stdout",
     "output_type": "stream",
     "text": [
      "(167,)\n"
     ]
    }
   ],
   "source": [
    "# Making prediction using our w_ans and b_ans \n",
    "y_pred_our = predict_our(X_test, w_ans, b_ans)\n",
    "print(y_pred_our.shape)"
   ]
  },
  {
   "cell_type": "markdown",
   "metadata": {},
   "source": [
    "#### Comparing MSE from our implementation to sklearn's implementation "
   ]
  },
  {
   "cell_type": "code",
   "execution_count": 378,
   "metadata": {},
   "outputs": [
    {
     "name": "stdout",
     "output_type": "stream",
     "text": [
      "MSE obtained from our implementaion is:  27.05517493518064\n",
      "MSE obtained from sklearn's implementaion is:  23.2395080399755\n"
     ]
    }
   ],
   "source": [
    "# calculating MSE for our y_pred\n",
    "mse_our = mean_squared_error(y_test, y_pred_our)\n",
    "print(\"MSE obtained from our implementaion is: \", mse_our)\n",
    "print(\"MSE obtained from sklearn's implementaion is: \", mse)"
   ]
  },
  {
   "cell_type": "markdown",
   "metadata": {},
   "source": [
    "#### Chart of predicted prices Vs actual prices of our SGD Implementation"
   ]
  },
  {
   "cell_type": "code",
   "execution_count": 382,
   "metadata": {},
   "outputs": [
    {
     "data": {
      "image/png": "[encoded data removed]",
      "text/plain": [
       "<Figure size 432x288 with 1 Axes>"
      ]
     },
     "metadata": {
      "needs_background": "light"
     },
     "output_type": "display_data"
    }
   ],
   "source": [
    "# Plotting the Scatter plot of Actual Price VS Predicted Price\n",
    "import matplotlib.pyplot as plt\n",
    "%matplotlib inline\n",
    "\n",
    "plt.scatter(y_test, y_pred_our)\n",
    "plt.grid()\n",
    "plt.xlabel(\"Actual Prices\")\n",
    "plt.ylabel(\"Predicted prices\")\n",
    "plt.title(\"Actual Prices vs Predicted Prices for our SGD implementation\")\n",
    "plt.show()"
   ]
  },
  {
   "cell_type": "markdown",
   "metadata": {},
   "source": [
    "#### Chart of predicted prices Vs actual prices of sklearn's SGD Implementation"
   ]
  },
  {
   "cell_type": "code",
   "execution_count": 383,
   "metadata": {},
   "outputs": [
    {
     "data": {
      "image/png": "[encoded data removed]",
      "text/plain": [
       "<Figure size 432x288 with 1 Axes>"
      ]
     },
     "metadata": {
      "needs_background": "light"
     },
     "output_type": "display_data"
    }
   ],
   "source": [
    "# Plotting the Scatter plot of Actual Price VS Predicted Price\n",
    "import matplotlib.pyplot as plt\n",
    "%matplotlib inline\n",
    "\n",
    "plt.scatter(y_test, y_pred)\n",
    "plt.grid()\n",
    "plt.xlabel(\"Actual Prices\")\n",
    "plt.ylabel(\"Predicted prices\")\n",
    "plt.title(\"Actual Prices vs Predicted Prices for sklearn's SGD implementation\")\n",
    "plt.show()"
   ]
  },
  {
   "cell_type": "markdown",
   "metadata": {},
   "source": [
    "#### Comparing the weights obtained from your our implementation with the weights obtained after applying sklearn's SGDRegresser"
   ]
  },
  {
   "cell_type": "code",
   "execution_count": 384,
   "metadata": {},
   "outputs": [
    {
     "name": "stdout",
     "output_type": "stream",
     "text": [
      "+-------+---------------------------+--------------------------+\n",
      "| S.NO. | Weights of our Manual SGD | Weights of Sklearn's SGD |\n",
      "+-------+---------------------------+--------------------------+\n",
      "|   1   |    0.07510006269644429    |   -0.6354151259886601    |\n",
      "|   2   |     0.5382012256928735    |   0.19160215339513478    |\n",
      "|   3   |    -0.29901000762056684   |   -0.1331696023807379    |\n",
      "|   4   |     0.9326356505893579    |    1.1200406925461959    |\n",
      "|   5   |    0.41490937928455096    |   -0.8827199707659023    |\n",
      "|   6   |     3.8223909322704914    |    3.1318643226726754    |\n",
      "|   7   |    -0.38000230612117425   |   -0.17119099469745122   |\n",
      "|   8   |    -0.4963496550859844    |   -1.4313343468054787    |\n",
      "|   9   |     0.7735509483839189    |    0.518402871165879     |\n",
      "|   10  |    -1.4079754441811076    |   -0.21557911694237195   |\n",
      "|   11  |    -2.2107870262593496    |   -1.9022645587000067    |\n",
      "|   12  |     0.9076097211206988    |    0.9780066031841307    |\n",
      "|   13  |     -3.439411283378005    |    -3.681821400492024    |\n",
      "+-------+---------------------------+--------------------------+\n"
     ]
    }
   ],
   "source": [
    "# importing PrettyTable class from prettytable module\n",
    "from prettytable import PrettyTable\n",
    "sr_n = [1,2,3,4,5,6,7,8,9,10,11,12,13]\n",
    "\n",
    "# Initializing prettytable object\n",
    "ptable = PrettyTable()\n",
    "\n",
    "# Adding columns\n",
    "ptable.add_column(\"S.NO.\",sr_n)\n",
    "ptable.add_column(\"Weights of our Manual SGD\", w_ans)\n",
    "ptable.add_column(\"Weights of Sklearn's SGD\", w_std)\n",
    "\n",
    "# Printing the Table\n",
    "print(ptable)"
   ]
  },
  {
   "cell_type": "code",
   "execution_count": 385,
   "metadata": {},
   "outputs": [
    {
     "name": "stdout",
     "output_type": "stream",
     "text": [
      "Intercept term for sklearn's implementation is:  22.316501367959823\n",
      "Intercept term for our SGD implementation is:  21.559516124697506\n"
     ]
    }
   ],
   "source": [
    "# Comparing intercept term for both\n",
    "print(\"Intercept term for sklearn's implementation is: \",clf.intercept_[0])\n",
    "print(\"Intercept term for our SGD implementation is: \",b_ans)"
   ]
  },
  {
   "cell_type": "markdown",
   "metadata": {},
   "source": [
    "#### Detailed procedure for predicting the house price"
   ]
  },
  {
   "cell_type": "markdown",
   "metadata": {},
   "source": [
    "STEP 1 :- Load the boston data from sklearn.datasets.\n",
    "\n",
    "STEP 2 :- Split data into X_train and X_test and Column standardized both differently.\n",
    "\n",
    "STEP 3 :- Train the model using Sklearn implementation of SGD Regression and predict the house prices for X_test using trained model, Calculate Mean Squared Error (MSE) for actual prices and predicted prices.\n",
    "\n",
    "STEP 4:- Implement Manual SGD Regression function and manual predict function.\n",
    "\n",
    "STEP 5:- Train the model using manual implementation of SGD Regression and predict the house prices for X_test using trained model.\n",
    "\n",
    "STEP 6:- Calculate Mean Squared Error (MSE) for Manual SGD implementation and Compare it to Sklearn's implementation of SGD regression.\n",
    "\n",
    "STEP 7:- Draw Scatter Plot of the predictions of both manual SGD Regression and sklearn's SGD Regression.\n",
    "\n",
    "STEP 8:- Compare the weights produced by both Manual SGD and Sklearn's SGD using prettytable.\n",
    "\n",
    "STEP 9:- Compare the intercept term produced by both Manual SGD and Sklearn's SGD."
   ]
  },
  {
   "cell_type": "code",
   "execution_count": null,
   "metadata": {},
   "outputs": [],
   "source": []
  }
 ],
 "metadata": {
  "colab": {
   "name": "Untitled3.ipynb",
   "provenance": [],
   "version": "0.3.2"
  },
  "kernelspec": {
   "display_name": "Python 3",
   "language": "python",
   "name": "python3"
  },
  "language_info": {
   "codemirror_mode": {
    "name": "ipython",
    "version": 3
   },
   "file_extension": ".py",
   "mimetype": "text/x-python",
   "name": "python",
   "nbconvert_exporter": "python",
   "pygments_lexer": "ipython3",
   "version": "3.6.7"
  }
 },
 "nbformat": 4,
 "nbformat_minor": 1
}
